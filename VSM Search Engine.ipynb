{
 "cells": [
  {
   "cell_type": "code",
   "execution_count": null,
   "metadata": {},
   "outputs": [],
   "source": [
    "import nltk\n",
    "nltk.download('averaged_perceptron_tagger_eng')\n",
    "nltk.download('stopwords')\n",
    "nltk.download('wordnet')"
   ]
  },
  {
   "cell_type": "code",
   "execution_count": 2,
   "metadata": {},
   "outputs": [],
   "source": [
    "import math\n",
    "import os\n",
    "import re\n",
    "import difflib\n",
    "from collections import Counter, defaultdict\n",
    "from nltk.corpus import stopwords, wordnet\n",
    "from nltk.stem import WordNetLemmatizer\n",
    "stop_words = set(stopwords.words('english'))"
   ]
  },
  {
   "cell_type": "markdown",
   "metadata": {},
   "source": [
    "Loading the Corpus...\n",
    "\n",
    "This cell reads all the text files from the Corpus folder and stores them in a dictionary.\n",
    "\n",
    "The key is the filename (ex: zomato.txt). And, the value is the text content of the corresponding document.\n",
    "\n",
    "It also prints the total number of documents loaded to confirm that the dataset is ready for processing."
   ]
  },
  {
   "cell_type": "code",
   "execution_count": 3,
   "metadata": {},
   "outputs": [
    {
     "name": "stdout",
     "output_type": "stream",
     "text": [
      "Total documents loaded: 41\n"
     ]
    }
   ],
   "source": [
    "# Initializing an empty dictionary to store the documents\n",
    "corpus = {}\n",
    "# Defining the folder path\n",
    "folder_path = 'Corpus'\n",
    "\n",
    "# Looping through each file in the Corpus directory, and reading the content of the files\n",
    "for filename in os.listdir(folder_path):\n",
    "    if filename.endswith('.txt'):\n",
    "        file_path = os.path.join(folder_path, filename)\n",
    "        with open(file_path, 'r', encoding='utf-8') as file:\n",
    "            corpus[filename] = file.read()\n",
    "\n",
    "# Printing the total number of documents loaded\n",
    "print(f\"Total documents loaded: {len(corpus)}\")"
   ]
  },
  {
   "cell_type": "markdown",
   "metadata": {},
   "source": [
    "Preprocessing text documents..."
   ]
  },
  {
   "cell_type": "code",
   "execution_count": 4,
   "metadata": {},
   "outputs": [],
   "source": [
    "def preprocess(text):\n",
    "    text = text.lower()\n",
    "    text = re.sub(r'[^a-z0-9\\s]', '', text)\n",
    "    tokens = text.split()\n",
    "    return tokens"
   ]
  },
  {
   "cell_type": "markdown",
   "metadata": {},
   "source": [
    "Mapping filenames..."
   ]
  },
  {
   "cell_type": "code",
   "execution_count": 5,
   "metadata": {},
   "outputs": [],
   "source": [
    "filenames = sorted(corpus.keys())   # ensuring consistent ordering\n",
    "file2id = {fname: i+1 for i, fname in enumerate(filenames)}   # starting the docIDs from 1\n",
    "id2file = {i+1: fname for i, fname in enumerate(filenames)}"
   ]
  },
  {
   "cell_type": "markdown",
   "metadata": {},
   "source": [
    "Setting up Inverted Index and Document Lengths..."
   ]
  },
  {
   "cell_type": "code",
   "execution_count": 6,
   "metadata": {},
   "outputs": [],
   "source": [
    "inverted_index = defaultdict(list)\n",
    "doc_lengths = defaultdict(float)\n",
    "for fname, content in corpus.items():\n",
    "    doc_id = file2id[fname]   \n",
    "    tokens = preprocess(content)\n",
    "    tf = Counter(tokens)\n",
    "    for term, freq in tf.items():\n",
    "        inverted_index[term].append((doc_id, freq))\n",
    "    doc_lengths[doc_id] = sum((1 + math.log10(f))**2 for f in tf.values())**0.5"
   ]
  },
  {
   "cell_type": "markdown",
   "metadata": {},
   "source": [
    "Computing Document Frequency and IDF..."
   ]
  },
  {
   "cell_type": "code",
   "execution_count": 7,
   "metadata": {},
   "outputs": [],
   "source": [
    "N = len(corpus)\n",
    "idf = {}\n",
    "for term, postings in inverted_index.items():\n",
    "    df = len(postings)\n",
    "    idf[term] = math.log10(N / df)"
   ]
  },
  {
   "cell_type": "markdown",
   "metadata": {},
   "source": [
    "Implementing the Soundex Algorithm..."
   ]
  },
  {
   "cell_type": "code",
   "execution_count": 8,
   "metadata": {},
   "outputs": [],
   "source": [
    "def soundex(name):\n",
    "    name = name.upper()\n",
    "    mapping = {\"BFPV\": \"1\", \"CGJKQSXZ\": \"2\", \"DT\": \"3\", \"L\": \"4\", \"MN\": \"5\", \"R\": \"6\"}\n",
    "    sound = name[0]\n",
    "    for char in name[1:]:\n",
    "        for key in mapping:\n",
    "            if char in key:\n",
    "                code = mapping[key]\n",
    "                if code != sound[-1]:\n",
    "                    sound += code\n",
    "                break\n",
    "        else:\n",
    "            sound += '0'\n",
    "    sound = sound[:4].ljust(4, '0')\n",
    "    return sound    "
   ]
  },
  {
   "cell_type": "code",
   "execution_count": 9,
   "metadata": {},
   "outputs": [
    {
     "name": "stdout",
     "output_type": "stream",
     "text": [
      "Some Soundex entries:\n",
      "W003: ['whatsapp', 'waiting', 'weather', 'whether', 'what']\n",
      "I200: ['ishihara', 'ig', 'igoogle', 'issues', 'ico']\n",
      "L010: ['level', 'labour', 'lobbyist', 'living', 'lifewire']\n",
      "W043: ['weltsek', 'wilderness', 'walter', 'walt', 'wild']\n",
      "A000: ['a', 'away', 'ahead', 'ai']\n"
     ]
    }
   ],
   "source": [
    "# Building a Soundex dictionary from terms in the inverted index\n",
    "soundex_dict = defaultdict(set)\n",
    "for term in inverted_index.keys():\n",
    "    code = soundex(term)\n",
    "    soundex_dict[code].add(term)\n",
    "# Printing some soundex codes and terms (some examples)\n",
    "print(\"Some Soundex entries:\")\n",
    "for code, terms in list(soundex_dict.items())[:5]:\n",
    "    print(f\"{code}: {list(terms)[:5]}\")"
   ]
  },
  {
   "cell_type": "markdown",
   "metadata": {},
   "source": [
    "Carrying out Query Processing with Soundex Integration..."
   ]
  },
  {
   "cell_type": "code",
   "execution_count": 10,
   "metadata": {},
   "outputs": [],
   "source": [
    "def process_query(query):\n",
    "    tokens = preprocess(query)\n",
    "    tf = Counter(tokens)\n",
    "    query_vec = defaultdict(float)\n",
    "    for term, freq in tf.items():\n",
    "        if term in idf:\n",
    "            # Calculating the TF-IDF score for the term if it exists in the index\n",
    "            query_vec[term] += (1 + math.log10(freq)) * idf[term]\n",
    "        else:\n",
    "            # If the term is not found, check Soundex matches\n",
    "            code = soundex(term)\n",
    "            similar_terms = soundex_dict.get(code, [])\n",
    "            if similar_terms:\n",
    "                weight = (1 + math.log10(freq))\n",
    "                # Spreading the weight equally among similar terms\n",
    "                for sim_term in similar_terms:\n",
    "                    query_vec[sim_term] += weight * idf.get(sim_term, 0)\n",
    "            else:\n",
    "                pass\t\n",
    "    # Normalizing the query vector\n",
    "    norm = sum(v**2 for v in query_vec.values())**0.5\n",
    "    if norm > 0:\n",
    "        for term in query_vec:\n",
    "            query_vec[term] /= norm\n",
    "    return query_vec"
   ]
  },
  {
   "cell_type": "markdown",
   "metadata": {},
   "source": [
    "Computing Cosine Similarity between the query vector and each document vector..."
   ]
  },
  {
   "cell_type": "code",
   "execution_count": 11,
   "metadata": {},
   "outputs": [],
   "source": [
    "def cosine_similarity(query_vec):\n",
    "    scores = defaultdict(float)\n",
    "    for term, q_weight in query_vec.items():\n",
    "        for doc_id, freq in inverted_index.get(term, []):\n",
    "            d_weight = 1 + math.log10(freq)\n",
    "            scores[doc_id] += q_weight * d_weight\n",
    "    for doc_id in scores:\n",
    "        scores[doc_id] /= doc_lengths[doc_id]\n",
    "    return sorted(scores.items(), key=lambda x: (-x[1], x[0]))"
   ]
  },
  {
   "cell_type": "markdown",
   "metadata": {},
   "source": [
    "Searching and Ranking Documents..."
   ]
  },
  {
   "cell_type": "code",
   "execution_count": 12,
   "metadata": {},
   "outputs": [],
   "source": [
    "def search(query):\n",
    "    query_vec = process_query(query)\n",
    "    results = cosine_similarity(query_vec)\n",
    "    print(\"The Top results:\")\n",
    "    for i, (doc_id, score) in enumerate(results[:10], start=1):\n",
    "        print(f\"{i}. {id2file[doc_id]}: {score:.4f}\") "
   ]
  },
  {
   "cell_type": "code",
   "execution_count": 13,
   "metadata": {},
   "outputs": [
    {
     "name": "stdout",
     "output_type": "stream",
     "text": [
      "Query 1 Results -\n",
      "The Top results:\n",
      "1. zomato.txt: 0.1825\n",
      "2. swiggy.txt: 0.0919\n",
      "3. messenger.txt: 0.0630\n",
      "4. instagram.txt: 0.0612\n",
      "5. reddit.txt: 0.0518\n",
      "6. skype.txt: 0.0468\n",
      "7. youtube.txt: 0.0467\n",
      "8. bing.txt: 0.0463\n",
      "9. yahoo.txt: 0.0372\n",
      "10. Uber.txt: 0.0354\n",
      "\n",
      "Query 2 Results -\n",
      "The Top results:\n",
      "1. shakespeare.txt: 0.1081\n",
      "2. levis.txt: 0.0275\n",
      "3. nike.txt: 0.0204\n",
      "4. huawei.txt: 0.0170\n",
      "5. zomato.txt: 0.0160\n",
      "6. Adobe.txt: 0.0158\n",
      "7. blackberry.txt: 0.0158\n",
      "8. reliance.txt: 0.0143\n",
      "9. skype.txt: 0.0136\n",
      "10. Uber.txt: 0.0117\n"
     ]
    }
   ],
   "source": [
    "query1 = \"Developing your Zomato business account and profile is a great way to boost your restaurant’s online reputation\"\n",
    "query2 = \"Warwickshire, came from an ancient family and was the heiress to some land\"\n",
    "print(\"Query 1 Results -\")\n",
    "search(query1)\n",
    "print(\"\\nQuery 2 Results -\")\n",
    "search(query2)"
   ]
  },
  {
   "cell_type": "markdown",
   "metadata": {},
   "source": [
    "## Additional Modifications"
   ]
  },
  {
   "cell_type": "markdown",
   "metadata": {},
   "source": [
    "- Stopword Removal"
   ]
  },
  {
   "cell_type": "code",
   "execution_count": 14,
   "metadata": {},
   "outputs": [],
   "source": [
    "# Loading English stopwords\n",
    "stop_words = set(stopwords.words('english'))\n",
    "def preprocess(text):\n",
    "    text = text.lower()\n",
    "    text = re.sub(r'[^a-z0-9\\s]', '', text)\n",
    "    tokens = text.split()\n",
    "    # Removing stopwords\n",
    "    tokens = [t for t in tokens if t not in stop_words]\n",
    "    return tokens"
   ]
  },
  {
   "cell_type": "markdown",
   "metadata": {},
   "source": [
    "- Lemmatization"
   ]
  },
  {
   "cell_type": "code",
   "execution_count": 15,
   "metadata": {},
   "outputs": [],
   "source": [
    "lemmatizer = WordNetLemmatizer()\n",
    "# Mapping POS tag to WordNet POS\n",
    "def get_wordnet_pos(tag):\n",
    "    if tag.startswith('J'):\n",
    "        return wordnet.ADJ\n",
    "    elif tag.startswith('V'):\n",
    "        return wordnet.VERB\n",
    "    elif tag.startswith('N'):\n",
    "        return wordnet.NOUN\n",
    "    elif tag.startswith('R'):\n",
    "        return wordnet.ADV\n",
    "    else:\n",
    "        return wordnet.NOUN \n",
    "def preprocess(text):\n",
    "    text = text.lower()\n",
    "    text = re.sub(r'[^a-z0-9\\s]', '', text)\n",
    "    tokens = text.split()\n",
    "    pos_tags = nltk.pos_tag(tokens) \n",
    "    tokens = [lemmatizer.lemmatize(t, get_wordnet_pos(tag)) for t, tag in pos_tags]\n",
    "    return tokens"
   ]
  },
  {
   "cell_type": "markdown",
   "metadata": {},
   "source": [
    "- Synonym Expansion (WordNet)"
   ]
  },
  {
   "cell_type": "code",
   "execution_count": 16,
   "metadata": {},
   "outputs": [
    {
     "name": "stdout",
     "output_type": "stream",
     "text": [
      "['railway car', 'cable car', 'auto', 'automobile', 'machine', 'railcar', 'elevator car', 'railroad car', 'motorcar', 'gondola']\n"
     ]
    }
   ],
   "source": [
    "def expand_with_synonyms(term):\n",
    "    synonyms = set()\n",
    "    for syn in wordnet.synsets(term):\n",
    "        for lemma in syn.lemmas():\n",
    "            word = lemma.name().lower().replace(\"_\", \" \")\n",
    "            if word != term:\n",
    "                synonyms.add(word)\n",
    "    return list(synonyms)\n",
    "# Printing examples\n",
    "print(expand_with_synonyms(\"car\"))"
   ]
  },
  {
   "cell_type": "markdown",
   "metadata": {},
   "source": [
    "- Spell Correction"
   ]
  },
  {
   "cell_type": "code",
   "execution_count": 17,
   "metadata": {},
   "outputs": [
    {
     "name": "stdout",
     "output_type": "stream",
     "text": [
      "instagram\n"
     ]
    }
   ],
   "source": [
    "def suggest_term(term):\n",
    "    candidates = inverted_index.keys()\n",
    "    closest = difflib.get_close_matches(term, candidates, n=1, cutoff=0.7)\n",
    "    return closest[0] if closest else None\n",
    "# Printing an example\n",
    "print(suggest_term(\"instagraam\")) "
   ]
  },
  {
   "cell_type": "markdown",
   "metadata": {},
   "source": [
    "- Highlighting Results"
   ]
  },
  {
   "cell_type": "code",
   "execution_count": 18,
   "metadata": {},
   "outputs": [],
   "source": [
    "def highlight_snippet(doc_id, query_terms, max_len=120):\n",
    "    text = corpus[id2file[doc_id]]  # Original text\n",
    "    snippet = text[:max_len]\n",
    "    for term in query_terms:\n",
    "        snippet = re.sub(f\"\\\\b{term}\\\\b\", f\"[{term.upper()}]\", snippet, flags=re.IGNORECASE)\n",
    "    return snippet + \"...\"\n",
    "# Modified search with highlighting\n",
    "def search(query):\n",
    "    query_vec = process_query(query)\n",
    "    results = cosine_similarity(query_vec)\n",
    "    tokens = preprocess(query)\n",
    "    print(\"The Top results:\")\n",
    "    for i, (doc_id, score) in enumerate(results[:10], start=1):\n",
    "        fname = id2file.get(doc_id, doc_id)   \n",
    "        snippet = highlight_snippet(doc_id, tokens)\n",
    "        print(f\"{i}. {fname} (score={score:.4f})\")\n",
    "        print(f\"   Snippet: {snippet}\\n\")"
   ]
  },
  {
   "cell_type": "code",
   "execution_count": null,
   "metadata": {},
   "outputs": [
    {
     "name": "stdout",
     "output_type": "stream",
     "text": [
      "Query 1: Zomato business account:\n",
      "The Top results:\n",
      "1. zomato.txt (score=0.1734)\n",
      "   Snippet: If you are [A] [RESTAURANT] owner or marketing manager for [A] [RESTAURANT], you’ll love [ZOMATO]. But what is [ZOMATO], exactly, an...\n",
      "\n",
      "2. swiggy.txt (score=0.1030)\n",
      "   Snippet: What Is Swiggy [AND] How It’s Working?\n",
      "\n",
      "Swiggy is one of the topmost players in the [ONLINE] food ordering & delivery indust...\n",
      "\n",
      "3. messenger.txt (score=0.0646)\n",
      "   Snippet: what is messenger?\n",
      "\n",
      "Users simply download the app [TO] their mobile/tablet device; the app can also [BE] used on desktop. Us...\n",
      "\n",
      "4. instagram.txt (score=0.0622)\n",
      "   Snippet: What is instagram?\n",
      "\n",
      "With over [A] billion registered accounts, Instagram, which was bought by Facebook in 2012, has become...\n",
      "\n",
      "5. reddit.txt (score=0.0534)\n",
      "   Snippet: What is reddit?\n",
      "\n",
      "If you spend [A] lot of time [ONLINE], chances are you’ve heard of Reddit. The site bills itself as the “fr...\n",
      "\n",
      "6. skype.txt (score=0.0490)\n",
      "   Snippet: What is skype?\n",
      "\n",
      "Skype is [A] VoIP service that enables people [TO] make [AND] receive free voice [AND] video calls over the inte...\n",
      "\n",
      "7. youtube.txt (score=0.0487)\n",
      "   Snippet: What is youtube?\n",
      "\n",
      "YouTube is [A] free video sharing website that makes it easy [TO] watch [ONLINE] videos. You can even create...\n",
      "\n",
      "8. HP.txt (score=0.0413)\n",
      "   Snippet: What is hp?\n",
      "\n",
      "Hewlett-Packard (HP) was founded in 1939 by William Hewlett [AND] David Packard [AND] was known for its hardwar...\n",
      "\n",
      "9. yahoo.txt (score=0.0383)\n",
      "   Snippet: What Is Yahoo?\n",
      "Everything you can do on Yahoo.com\n",
      "by Tim Fisher\n",
      "Updated on December 20, 2019\n",
      "Tweet\n",
      "Share\n",
      "Email\n",
      "\n",
      "AROUND T...\n",
      "\n",
      "10. apple.txt (score=0.0370)\n",
      "   Snippet: what is apple?\n",
      "\n",
      "Apple Inc. is an American multinational technology company that specializes in consumer electronics, com...\n",
      "\n",
      "\n",
      "Query 2: Warwickshire heritage:\n",
      "The Top results:\n",
      "1. shakespeare.txt (score=0.0996)\n",
      "   Snippet: what is shakespeare?\n",
      "\n",
      "William shakespeare, shakespeare also spelled Shakspere, byname Bard of Avon or Swan of Avon, (bap...\n",
      "\n",
      "2. skype.txt (score=0.0287)\n",
      "   Snippet: What is skype?\n",
      "\n",
      "Skype is a VoIP service that enables people [TO] make [AND] receive free voice [AND] video calls over [THE] inte...\n",
      "\n",
      "3. zomato.txt (score=0.0252)\n",
      "   Snippet: If you are a restaurant owner or marketing manager for a restaurant, you’ll love Zomato. But what is Zomato, exactly, [AN]...\n",
      "\n",
      "4. operating.txt (score=0.0241)\n",
      "   Snippet: What is operating system?\n",
      "\n",
      "[AN] operating system is [THE] most important software that runs on a computer. It manages [THE] co...\n",
      "\n",
      "5. Lenovo.txt (score=0.0226)\n",
      "   Snippet: What is Lenovo?\n",
      "\n",
      "Lenovo is [AN] international technology company that produces hardware [AND] software solutions. [THE] Lenovo...\n",
      "\n",
      "6. puma.txt (score=0.0185)\n",
      "   Snippet: What is puma?\n",
      "\n",
      "Puma SE is engaged in footwear, apparel, [AND] accessories business under [THE] Puma [AND] Cobra Golf brand nam...\n",
      "\n",
      "7. nike.txt (score=0.0171)\n",
      "   Snippet: What is nike?\n",
      "\n",
      "Nike is a champion brand builder. Its advertising slogans—“Bo Knows,” “Just Do It,” “There Is No Finish L...\n",
      "\n",
      "8. instagram.txt (score=0.0169)\n",
      "   Snippet: What is instagram?\n",
      "\n",
      "With over a billion registered accounts, Instagram, which was bought by Facebook in 2012, has become...\n",
      "\n",
      "9. blackberry.txt (score=0.0166)\n",
      "   Snippet: what is blackberry?\n",
      "\n",
      "BlackBerry is a brand of smartphones, tablets, [AND] services originally designed [AND] marketed by Can...\n",
      "\n",
      "10. yahoo.txt (score=0.0140)\n",
      "   Snippet: What Is Yahoo?\n",
      "Everything you can do on Yahoo.com\n",
      "by Tim Fisher\n",
      "Updated on December 20, 2019\n",
      "Tweet\n",
      "Share\n",
      "Email\n",
      "\n",
      "AROUND T...\n",
      "\n",
      "\n",
      "Query 3: Misspelled words:\n",
      "The Top results:\n",
      "1. swiggy.txt (score=0.0494)\n",
      "   Snippet: What Is Swiggy And How It’s Working?\n",
      "\n",
      "Swiggy is one of the topmost players in the online food ordering & delivery indust...\n",
      "\n",
      "2. messenger.txt (score=0.0461)\n",
      "   Snippet: what is messenger?\n",
      "\n",
      "Users simply download the app to their mobile/tablet device; the app can also be used on desktop. Us...\n",
      "\n",
      "3. whatsapp.txt (score=0.0451)\n",
      "   Snippet: What is whatsapp?\n",
      "\n",
      "Launched in 2009, whatsapp is one of the most popular text and voice messaging apps. It’s free to use...\n",
      "\n",
      "4. operating.txt (score=0.0436)\n",
      "   Snippet: What is operating system?\n",
      "\n",
      "An operating system is the most important software that runs on a computer. It manages the co...\n",
      "\n",
      "5. zomato.txt (score=0.0412)\n",
      "   Snippet: If you are a restaurant owner or marketing manager for a restaurant, you’ll love [ZOMATO]. But what is [ZOMATO], exactly, an...\n",
      "\n",
      "6. telegram.txt (score=0.0402)\n",
      "   Snippet: what is telegram?\n",
      "\n",
      "Telegram is a popular cross-platform messaging app that is widely used because it offers some enhance...\n",
      "\n",
      "7. nike.txt (score=0.0350)\n",
      "   Snippet: What is nike?\n",
      "\n",
      "Nike is a champion brand builder. Its advertising slogans—“Bo Knows,” “Just Do It,” “There Is No Finish L...\n",
      "\n",
      "8. Amazon.txt (score=0.0347)\n",
      "   Snippet: What is amazon?\n",
      "\n",
      "Amazon.com, online retailer, manufacturer of electronic book readers, and Web services provider that be...\n",
      "\n",
      "9. Ola.txt (score=0.0334)\n",
      "   Snippet: What is Ola?\n",
      "\n",
      "Ola needs no introduction. The first Indian cab aggregator company, Ola has made availing cab services a s...\n",
      "\n",
      "10. Dell.txt (score=0.0325)\n",
      "   Snippet: What is dell?\n",
      "\n",
      "The company, first named PC’s Limited, was founded in 1984 by American Michael Dell, who was then a stude...\n",
      "\n",
      "\n",
      "Query 4: Synonym test:\n",
      "The Top results:\n",
      "1. Uber.txt (score=0.0971)\n",
      "   Snippet: All about Uber?\n",
      "\n",
      "From that initial launch in San Francisco, Uber started its global take-over, expanding to a new US cit...\n",
      "\n",
      "2. volkswagen.txt (score=0.0900)\n",
      "   Snippet: what is volkswagen?\n",
      "\n",
      "Volkswagen Group, also called Volkswagen AG, major German automobile manufacturer, founded by the G...\n",
      "\n",
      "3. motorola.txt (score=0.0499)\n",
      "   Snippet: what is motorola?\n",
      "\n",
      "Motorola, Inc. was an American multinational telecommunications [COMPANY] based in Schaumburg, Illinois...\n",
      "\n",
      "4. samsung.txt (score=0.0370)\n",
      "   Snippet: what is samsung?\n",
      "\n",
      "Samsung, South Korean [COMPANY] that is one of the world’s largest producers of electronic devices. Sams...\n",
      "\n",
      "5. nokia.txt (score=0.0308)\n",
      "   Snippet: what is nokia?\n",
      "\n",
      "Nokia Corporation is a Finnish multinational telecommunications, information [TECHNOLOGY], and consumer el...\n",
      "\n",
      "6. apple.txt (score=0.0307)\n",
      "   Snippet: what is apple?\n",
      "\n",
      "Apple Inc. is an American multinational [TECHNOLOGY] [COMPANY] that specializes in consumer electronics, com...\n",
      "\n",
      "7. huawei.txt (score=0.0275)\n",
      "   Snippet: what is huawei?\n",
      "\n",
      "Huawei Technologies Co., Ltd. is a Chinese multinational [TECHNOLOGY] [COMPANY] headquartered in Shenzhen, ...\n",
      "\n",
      "8. Amazon.txt (score=0.0257)\n",
      "   Snippet: What is amazon?\n",
      "\n",
      "Amazon.com, online retailer, manufacturer of electronic book readers, and Web services provider that be...\n",
      "\n",
      "9. Adobe.txt (score=0.0248)\n",
      "   Snippet: what is adobe?\n",
      "\n",
      "The [COMPANY] was founded in 1982 by John Warnock and Charles Geschke. While employed at Xerox Corporation...\n",
      "\n",
      "10. Dell.txt (score=0.0248)\n",
      "   Snippet: What is dell?\n",
      "\n",
      "The [COMPANY], first named PC’s Limited, was founded in 1984 by American Michael Dell, who was then a stude...\n",
      "\n",
      "\n",
      "Query 5: Stopwords check:\n",
      "The Top results:\n",
      "1. zomato.txt (score=0.1380)\n",
      "   Snippet: If you are a [RESTAURANT] owner or marketing manager for a [RESTAURANT], you’ll love [ZOMATO]. But what is [ZOMATO], exactly, an...\n",
      "\n",
      "2. swiggy.txt (score=0.1055)\n",
      "   Snippet: What Is Swiggy [AND] How It’s Working?\n",
      "\n",
      "Swiggy is one [OF] [[THE]] topmost players [IN] [[THE]] online food ordering & delivery indust...\n",
      "\n",
      "3. instagram.txt (score=0.0430)\n",
      "   Snippet: What is instagram?\n",
      "\n",
      "With over a billion registered accounts, Instagram, which was bought by Facebook [IN] 2012, has become...\n",
      "\n",
      "4. messenger.txt (score=0.0316)\n",
      "   Snippet: what is messenger?\n",
      "\n",
      "Users simply download [[THE]] app to their mobile/tablet device; [[THE]] app can also be used on desktop. Us...\n",
      "\n",
      "5. youtube.txt (score=0.0190)\n",
      "   Snippet: What is youtube?\n",
      "\n",
      "YouTube is a free video sharing website that makes it easy to watch online videos. You can even create...\n",
      "\n",
      "6. Lenovo.txt (score=0.0074)\n",
      "   Snippet: What is Lenovo?\n",
      "\n",
      "Lenovo is an international technology company that produces hardware [AND] software solutions. [[THE]] Lenovo...\n",
      "\n",
      "7. reliance.txt (score=0.0073)\n",
      "   Snippet: what is reliance?\n",
      "\n",
      "Mukesh ambani, [IN] full Mukesh Dhirubhai ambani, (born April 19, 1957, Aden, Yemen), Yemeni-born India...\n",
      "\n",
      "8. paypal.txt (score=0.0072)\n",
      "   Snippet: what is paypal?\n",
      "\n",
      "paypal, American e-commerce company formed [IN] March 2000 that specializes [IN] Internet money transfers. ...\n",
      "\n",
      "9. canva.txt (score=0.0071)\n",
      "   Snippet: What is Canva? A guide to [[THE]] graphic design platform's features [AND] capabilities\n",
      "ABIGAIL ABESAMIS DEMARESTSEP 19, 2020,...\n",
      "\n",
      "10. samsung.txt (score=0.0066)\n",
      "   Snippet: what is samsung?\n",
      "\n",
      "Samsung, South Korean company that is one [OF] [[THE]] world’s largest producers [OF] electronic devices. Sams...\n",
      "\n"
     ]
    }
   ],
   "source": [
    "# Testing queries\n",
    "# 1: Regular query (should work as before, but with stopwords removed & stemming applied)\n",
    "print(\"Query 1: Zomato business account:\")\n",
    "search(\"Developing your Zomato business account and profile is a great way to boost your restaurant’s online reputation\")\n",
    " \n",
    "# 2: Shakespeare query (historical style, synonym expansion could be applied)\n",
    "print(\"\\nQuery 2: Warwickshire heritage:\")\n",
    "search(\"Warwickshire, came from an ancient family and was the heiress to some land\")\n",
    "\n",
    "# 3: Misspelled terms (Soundex + spell correction should help in fixing these)\n",
    "print(\"\\nQuery 3: Misspelled words:\")\n",
    "search(\"Instagraam messanger zomato restraunt profle\")\n",
    "\n",
    "# 4: Synonym expansion (WordNet should expand 'car')\n",
    "print(\"\\nQuery 4: Synonym test:\")\n",
    "search(\"car company technology\")\n",
    "\n",
    "# 5: Stopwords removal check (searching with filler words should still give good results)\n",
    "print(\"\\nQuery 5: Stopwords check:\")\n",
    "search(\"the and of in zomato business the restaurant profile\")"
   ]
  }
 ],
 "metadata": {
  "kernelspec": {
   "display_name": "Python 3",
   "language": "python",
   "name": "python3"
  },
  "language_info": {
   "codemirror_mode": {
    "name": "ipython",
    "version": 3
   },
   "file_extension": ".py",
   "mimetype": "text/x-python",
   "name": "python",
   "nbconvert_exporter": "python",
   "pygments_lexer": "ipython3",
   "version": "3.10.6"
  }
 },
 "nbformat": 4,
 "nbformat_minor": 2
}
